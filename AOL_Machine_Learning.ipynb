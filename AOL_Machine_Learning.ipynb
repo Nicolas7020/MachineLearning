{
  "cells": [
    {
      "cell_type": "markdown",
      "metadata": {
        "id": "Ju0P9m6OhMRr"
      },
      "source": [
        "Import Libraries"
      ]
    },
    {
      "cell_type": "code",
      "execution_count": 1,
      "metadata": {
        "id": "DIeWuHMpn9R5"
      },
      "outputs": [],
      "source": [
        "# Install libraries\n",
        "import pandas as pd\n",
        "import numpy as np\n",
        "import re\n",
        "from sklearn.model_selection import train_test_split\n",
        "from sklearn.feature_extraction.text import TfidfVectorizer\n",
        "from sklearn.linear_model import LogisticRegression\n",
        "from sklearn.metrics import accuracy_score, confusion_matrix, classification_report\n",
        "import matplotlib.pyplot as plt\n"
      ]
    },
    {
      "cell_type": "code",
      "execution_count": 2,
      "metadata": {
        "id": "O1H8n6_MoTJ1"
      },
      "outputs": [],
      "source": [
        "# Load data\n",
        "fake_news = pd.read_csv('Fake.csv')\n",
        "true_news = pd.read_csv('True.csv')\n",
        "\n",
        "fake_news.head(10)\n",
        "\n",
        "# Add label column (1 for fake, 0 for true)\n",
        "fake_news['label'] = 1\n",
        "true_news['label'] = 0\n",
        "\n",
        "# Combine the datasets\n",
        "news_data = pd.concat([fake_news[['title', 'text', 'label']], true_news[['title', 'text', 'label']]])\n",
        "\n",
        "# Shuffle the data\n",
        "news_data = news_data.sample(frac=1).reset_index(drop=True)"
      ]
    },
    {
      "cell_type": "code",
      "execution_count": 3,
      "metadata": {
        "colab": {
          "base_uri": "https://localhost:8080/"
        },
        "id": "Z7E_uCq_e-gt",
        "outputId": "792d7f83-1d08-46d8-f167-a74f81b5460d"
      },
      "outputs": [
        {
          "name": "stdout",
          "output_type": "stream",
          "text": [
            "                                                   title  \\\n",
            "0      Senate intelligence panel to probe Russia hacking   \n",
            "1      U.S. appeals injunction of Trump revised trave...   \n",
            "2      Pilgrims return to Mecca as haj winds down wit...   \n",
            "3      American Workers Finally Fighting Back Against...   \n",
            "4                           Trump’s ‘Wag the Dog’ Moment   \n",
            "...                                                  ...   \n",
            "44891  Tension rises as Australia starts to dismantle...   \n",
            "44892  Republican U.S. Senators Rubio, Lee want boost...   \n",
            "44894  Challenge to Trump travel ban moves forward in...   \n",
            "44895  California governor signs drug pricing transpa...   \n",
            "44897  Gingrich, Christie lead Trump list of vice pre...   \n",
            "\n",
            "                                                    text  label  \n",
            "0      WASHINGTON (Reuters) - The leaders of the Sena...      0  \n",
            "1      SAN FRANCISCO (Reuters) - The U.S. Justice Dep...      0  \n",
            "2      MECCA (Reuters) - More than two million pilgri...      0  \n",
            "3      THE H-1B VISA PROGRAM IS KILLING JOBS FOR NATI...      1  \n",
            "4      21st Century Wire says Robert Parry, best know...      1  \n",
            "...                                                  ...    ...  \n",
            "44891  SYDNEY (Reuters) - Australian private security...      0  \n",
            "44892  WASHINGTON (Reuters) - Republican U.S. Senator...      0  \n",
            "44894  SAN FRANCISCO (Reuters) - The most consequenti...      0  \n",
            "44895  (Reuters) - California Governor Jerry Brown on...      0  \n",
            "44897  WASHINGTON (Reuters) - Former House Speaker Ne...      0  \n",
            "\n",
            "[39105 rows x 3 columns]\n"
          ]
        }
      ],
      "source": [
        "# Drop duplicates\n",
        "news_data = news_data.drop_duplicates()\n",
        "print(news_data)"
      ]
    },
    {
      "cell_type": "code",
      "execution_count": 4,
      "metadata": {
        "id": "M9Lx4FsXcLQ5"
      },
      "outputs": [],
      "source": [
        "# Create a TF-IDF vectorizer for the 'text' column\n",
        "tfidf_text = TfidfVectorizer(max_features=5000, stop_words='english')\n",
        "text_vectors = tfidf_text.fit_transform(news_data['text'])\n",
        "\n",
        "# Create a TF-IDF vectorizer for the 'title' column\n",
        "tfidf_title = TfidfVectorizer(max_features=2000, stop_words='english')\n",
        "title_vectors = tfidf_title.fit_transform(news_data['title'])"
      ]
    },
    {
      "cell_type": "code",
      "execution_count": 5,
      "metadata": {
        "colab": {
          "base_uri": "https://localhost:8080/"
        },
        "id": "ABN6WcQ6fXUi",
        "outputId": "f1a49f9b-8912-43b5-e747-a4563cacd60a"
      },
      "outputs": [
        {
          "name": "stdout",
          "output_type": "stream",
          "text": [
            "[[ 1.          0.06133443  0.08516908 ... -0.00106194 -0.00103078\n",
            "  -0.00290588]\n",
            " [ 0.06133443  1.         -0.0028     ... -0.00354851 -0.00304935\n",
            "  -0.0025984 ]\n",
            " [ 0.08516908 -0.0028      1.         ...  0.0016023  -0.00241373\n",
            "  -0.00205678]\n",
            " ...\n",
            " [-0.00106194 -0.00354851  0.0016023  ...  1.          0.01423036\n",
            "  -0.00260661]\n",
            " [-0.00103078 -0.00304935 -0.00241373 ...  0.01423036  1.\n",
            "  -0.00223994]\n",
            " [-0.00290588 -0.0025984  -0.00205678 ... -0.00260661 -0.00223994\n",
            "   1.        ]]\n"
          ]
        }
      ],
      "source": [
        "import numpy as np\n",
        "# Concatenate the vectors\n",
        "combined_vectors = np.concatenate((title_vectors.toarray(), text_vectors.toarray()), axis=1)\n",
        "\n",
        "# Calculate the correlation matrix\n",
        "correlation_matrix = np.corrcoef(combined_vectors, rowvar=False)\n",
        "\n",
        "# Print or further process the correlation matrix as needed\n",
        "print(correlation_matrix)\n"
      ]
    },
    {
      "cell_type": "code",
      "execution_count": 6,
      "metadata": {
        "colab": {
          "base_uri": "https://localhost:8080/"
        },
        "id": "ImZNSWp1dSt4",
        "outputId": "dfcc313a-c0fc-4b77-f9d5-aaac0161b516"
      },
      "outputs": [
        {
          "name": "stdout",
          "output_type": "stream",
          "text": [
            "Accuracy: 0.9910497378851809\n",
            "[[4118   21]\n",
            " [  49 3633]]\n",
            "              precision    recall  f1-score   support\n",
            "\n",
            "           0       0.99      0.99      0.99      4139\n",
            "           1       0.99      0.99      0.99      3682\n",
            "\n",
            "    accuracy                           0.99      7821\n",
            "   macro avg       0.99      0.99      0.99      7821\n",
            "weighted avg       0.99      0.99      0.99      7821\n",
            "\n"
          ]
        }
      ],
      "source": [
        "import numpy as np\n",
        "# Combine the text and title vectors\n",
        "combined_vectors = np.hstack((text_vectors.toarray(), title_vectors.toarray()))\n",
        "\n",
        "# Split the data into training and testing sets\n",
        "X_train, X_test, y_train, y_test = train_test_split(combined_vectors, news_data['label'], test_size=0.2, random_state=42)\n",
        "\n",
        "# Train a Logistic Regression model\n",
        "model = LogisticRegression(max_iter=1000)  # Increased max_iter\n",
        "model.fit(X_train, y_train)\n",
        "\n",
        "# Make predictions on the test set\n",
        "y_pred = model.predict(X_test)\n",
        "\n",
        "# Evaluate the model\n",
        "accuracy = accuracy_score(y_test, y_pred)\n",
        "print(f\"Accuracy: {accuracy}\")\n",
        "\n",
        "print(confusion_matrix(y_test, y_pred))\n",
        "print(classification_report(y_test, y_pred))\n"
      ]
    },
    {
      "cell_type": "code",
      "execution_count": 7,
      "metadata": {
        "id": "irXfdLvIdfzQ"
      },
      "outputs": [],
      "source": [
        "import pickle\n",
        "\n",
        "# Save the model\n",
        "filename_model = 'finalized_model.pkl'\n",
        "pickle.dump(model, open(filename_model, 'wb'))\n",
        "\n",
        "# Save the vectorizers\n",
        "filename_vectorizer_text = 'tfidf_text_vectorizer.pkl'\n",
        "pickle.dump(tfidf_text, open(filename_vectorizer_text, 'wb'))\n",
        "\n",
        "filename_vectorizer_title = 'tfidf_title_vectorizer.pkl'\n",
        "pickle.dump(tfidf_title, open(filename_vectorizer_title, 'wb'))\n"
      ]
    },
    {
      "cell_type": "code",
      "execution_count": 8,
      "metadata": {
        "colab": {
          "base_uri": "https://localhost:8080/"
        },
        "id": "tX2r1wMfdmv3",
        "outputId": "1fa65a9e-d246-4779-fdfe-8c106871215c"
      },
      "outputs": [
        {
          "name": "stdout",
          "output_type": "stream",
          "text": [
            "['Fake', 'Fake', 'Real', 'Real', 'Real']\n"
          ]
        }
      ],
      "source": [
        "import pickle\n",
        "import numpy as np\n",
        "\n",
        "# Load the saved model and vectorizers\n",
        "filename_model = 'finalized_model.pkl'\n",
        "filename_vectorizer_text = 'tfidf_text_vectorizer.pkl'\n",
        "filename_vectorizer_title = 'tfidf_title_vectorizer.pkl'\n",
        "\n",
        "model = pickle.load(open(filename_model, 'rb'))\n",
        "tfidf_text = pickle.load(open(filename_vectorizer_text, 'rb'))\n",
        "tfidf_title = pickle.load(open(filename_vectorizer_title, 'rb'))\n",
        "\n",
        "# Create mock prediction data\n",
        "mock_data = {\n",
        "    'title': [\n",
        "        'Watch: Is This Proof Trump Is Unfit for Service?',\n",
        "        'Sean Hannity Gets Wrecked For Yelling At Time Magazine For Calling Out Trumpâ€™s Lie',\n",
        "        'U.S. appeals court rejects challenge to Trump voter fraud panel',\n",
        "        'South Africas Dlamini-Zuma says business endorsement not a priority in ANC race',\n",
        "        'Saudi king appoints 30 judges, promotes 26 amid anti-graft purge'],\n",
        "    'text': [\n",
        "        'New questions are being asked about President Donald Trump s ability to lead after he slurred his words during a speech about his Jerusalem decision. Possible reasons for this include: fatigue, a dry mouth (the White House explanation), the use of drugs or alcohol, a problem with his dentures or more troubling issues dealing with his mental or physical health. Morning Joe reported this morning that, unlike other presidents, Trump has opted not to get his physicals at the Walter Reed Army Medical Center.Questions about Trump s mental stability have been growing over the last few months. While he has never been viewed as a stable person in the traditional sense, his tweets and comments have gotten more erratic. He was widely criticized recently when he retweeted several anti-Muslim videos that were posted by radicals in the United Kingdom.One psychiatrist talk to MSNBC s Lawrence O Donnel about his impressions of Trump s state of mind.Many think that any degradation in Trump s mental state may be due to the increased pressure he is feeling from Robert Mueller s investigations into collusion between his campaign and the Russian government. This has increased since former National Security Advisor Michael Flynn pleaded guilty to lying to the FBI.All of this talk is leading to more people to ask if Trump should be removed from office, citing the 25th Amendment to the U.S. Constitution. Rep. Jamie D. Raskin (D-MD) has circulated a  dear colleague  letter suggesting just that. As published in the Washington Post, it says: Please join a rapidly growing group of colleagues in cosponsoring H.R. 1987, the Oversight Commission on Presidential Capacity Act. It sets up and defines the Congressionally-appointed  body  called for by the 25th Amendment. Under Section 4 of the 25th Amendment, the Vice-President and a majority of the Cabinet or the Vice-President and a majority of  such other body as Congress may by law provide  can determine that the President is for reasons of physical or mental incapacity unable to discharge the powers and duties of his office. The 25th Amendment was added to the Constitution in 1967, but in the last 50 years Congress never created the  body  that its language contemplated. Perhaps it never occurred to prior Congresses that setting up this body was necessary. For obvious reasons, it is indeed necessary, and now is the time for us to do it. While the Republicans in the Cabinet and Congress may not yet be ready to take this step, it is out there.Featured image via Andrew Burton/Getty Images',\n",
        "        'Fox News host Sean Hannity is having a Twitter meltdown after Time called out Donald Trump for claiming that the magazine called him regarding the Person of the Year award and that he declined the offer.Time magazine corrected Trump in a tweet, writing,  The President is incorrect about how we choose Person of the Year. TIME does not comment on our choice until publication, which is December 6. The magazine calling out Trump was too much to bear for Trump cult member Sean Hannity who called it  bullshit  just hours after Time denied the former reality show star s bizarre claim. I call total Bullshit on Time. Answer the question; did you or did you not call the WH and say @realDonaldTrump @POTUS was being considered for person of the year and ask for an interview?  Hannity tweeted Friday.I call total Bullshit on Time. Answer the question; did you or did you not call the WH and say @realDonaldTrump @POTUS was being considered for person of the year and ask for an interview? https://t.co/DaqfDBsr0V  Sean Hannity (@seanhannity) November 25, 2017And again.So @Time is worse than Fake News @CNN. The coming ice age,  The Big Cool  ha. https://t.co/mppoFtFsvc  Sean Hannity (@seanhannity) November 25, 2017Sean really wants the magazine s attention.Waiting  https://t.co/90GSYMVVKU  Sean Hannity (@seanhannity) November 25, 2017Twitter users, of course, are calling out Liddle Sean.You re questioning Time? Why aren t you questioning the man who hung fake Time covers of himself in his resorts? It s sad you haven t caught on to his lies yet, Sean.  Mrs. SMH (@MaraLaGoFuckYou) November 25, 2017pic.twitter.com/UJtVSaKgOF  What the Fork (@WhattheForkLLC) November 25, 2017Only the finest make it on @TIME @POTUS44 @MichelleObama pic.twitter.com/fGLX2Rzgwo  NAT (@N_A_T_39) November 25, 2017LMAO! Let s look at this logically. @Time magazine has been in business 93 years. It s never gone bankrupt. It s a respected institution.@realdonaldtrump has gone bankrupt 4 times, has been caught in scores of lies including a fake Time cover mounted on his golf club walls. pic.twitter.com/ywzr96arh1  Annalise   Brown (@SWFLib) November 25, 2017Donnie can t stand the idea of Obama being Time s Man of the Year in the first year of his presidency. He knows he ll never be half the man or the President @BarackObama was, and it s eating him up inside. pic.twitter.com/ROMxC3oc7C  Annalise   Brown (@SWFLib) November 25, 2017As this woman notes, Trump has always been obsessed with Time magazine.Honey, just get the man warm milk and one for yourself Also. pic.twitter.com/LMV9lwg9Lx  kastherine (@Mercedes8_S) November 25, 2017Find a comfy chair. Drink some warm milk. And wait for the voices to stop.  Charles P. Pierce (@CharlesPPierce) November 25, 2017With Trump s history, a man who literally hangs photoshopped Time magazine covers featuring his big stupid face, on the walls of at least 4 of his golf courses, we re pretty it s not Time magazine who is lying.Photo by Rob Kim/Getty Images.',\n",
        "        '(Reuters) - A U.S. appeals court in Washington on Tuesday upheld a lower courtâ€™s decision to allow President Donald Trumpâ€™s commission investigating voter fraud to request data on voter rolls from U.S. states. The U.S. Court of Appeals for the District of Columbia Circuit said the Electronic Privacy Information Center (EPIC) watchdog group, which filed the lawsuit, did not have legal standing to seek to force the presidential commission to review privacy concerns before collecting individualsâ€™ voter data. EPIC had argued that under federal law, the commission was required to conduct a privacy-impact assessment before gathering personal data. But the three-judge appeals court panel ruled unanimously that the privacy law at issue was intended to protect individuals, not groups like EPIC. â€œEPIC is not a voter,â€ Judge Karen Henderson wrote in the ruling.  Washington-based U.S. District Judge Colleen Kollar-Kotelly first denied EPICâ€™s injunction request in July, in part because the collection of data by the commission was not technically an action by a government agency so was not bound by laws that govern what such entities can do.  Kollar-Kotelly noted that the commission, headed by Vice President Mike Pence, was an advisory body that lacks legal authority to compel states to hand over the data. Most state officials who oversee elections and election law experts say that voter fraud is rare in the United States. Trump, a Republican, set up the commission in May after charging, without evidence, that millions of people voted unlawfully in the 2016 presidential election in which he defeated Democratic opponent Hillary Clinton despite losing the popular vote.  The commissionâ€™s vice chair, Kris Kobach, the Republican secretary of state for Kansas and an advocate of tougher laws on immigration and voter identification, asked states in June to turn over voter information. The data requested by Kobach included names, the last four digits of Social Security numbers, addresses, birth dates, political affiliation, felony convictions and voting histories.  More than 20 states refused outright and others said they needed to study whether they could provide the data. Civil rights groups and Democratic lawmakers have said the commissionâ€™s eventual findings could lead to new ID requirements and other measures making it harder for groups that tend to favor Democratic candidates to cast ballots. EPIC executive director Marc Rotenberg could not immediately be reached for comment. ',\n",
        "        'JOHANNESBURG (Reuters) - South African politician Nkosazana Dlamini-Zuma said on Thursday it was fine if the country s white business community declined to endorse her bid to succeed President Jacob Zuma as leader of the African National Congress (ANC). Her priority was to transfer wealth from the white minority to the black majority, who are generally much poorer. Those who opposed the policy were mainly white people or members of the black elite who want to preserve the status quo, she said.  If we have to choose between our people having a better life and investment, that s not a choice,  she said, when asked about whether her policies could scare away businesses.  I m not afraid. I m not afraid of them. But I m not surprised white minority capital is not endorsing me,  she said on ANN7 television in a rare interview. ANC delegates will vote for a new party president next month, with Dlamini-Zuma expected to face Deputy President Cyril Ramaphosa, a unionist-turned-millionaire businessman who is more popular with foreign investors.  From where I sit, it s looking good. The campaign is going well,  said Dlamini-Zuma, who was married to the president.  The winner of the party vote will be favorite to become the next president of South Africa, either at an election in 2019, or before if Zuma stands down or is forced out by the new ANC leadership next year. Apartheid in South Africa ended in 1994 but much of the country s wealth resides with the white minority. Successive ANC governments have said they want to empower the majority, though many black people have seen only modest economic gains. Dlamini-Zuma, who has held several cabinet posts and was most recently chair of the African Union, has pledged to tackle poverty and close the gaping racial inequality gap. Some investors are concerned about Dlamini-Zuma s proposed plan of  radical economic transformation , which critics have said is a populist term that isn t backed up by solid policies. ',\n",
        "        'DUBAI (Reuters) - King Salman has appointed or promoted 56 judges, Saudi Arabia s state news agency SPA reported on Thursday, a step coinciding with an anti-corruption crackdown in the kingdom.  The king issued a royal order that promoted 26 judges and appointed 30 others at different levels of the judiciary, SPA said.  Saudi authorities have arrested dozens of royal family members, officials and businessmen in the anti-graft purge that began on Saturday. They face allegations of money laundering, bribery, extortion and exploiting public office for personal gain. It was unclear if the judges will have any role in the widening crackdown. Regulators in the United Arab Emirates have asked banks for information about citizens detained in the investigation, a possible prelude to freezing their accounts. Saudi Arabia has announced it will confiscate assets improperly acquired, and while Riyadh has set no timetable for any such confiscations, banking sources say more than 1,700 domestic bank accounts have already been frozen at the request of the central bank. Huge amounts of money may be at stake. Corruption has over the years siphoned off $800 billion from Saudi state revenues and bankers believe much of it is held abroad, in countries including Switzerland and Britain. ']\n",
        "}\n",
        "\n",
        "# Transform the mock data using the loaded vectorizers\n",
        "text_vectors = tfidf_text.transform(mock_data['text'])\n",
        "title_vectors = tfidf_title.transform(mock_data['title'])\n",
        "\n",
        "# Combine the vectors\n",
        "combined_vectors = np.hstack((text_vectors.toarray(), title_vectors.toarray()))\n",
        "\n",
        "\n",
        "# Make predictions\n",
        "predictions = model.predict(combined_vectors)\n",
        "\n",
        "# Map predictions to \"Real\" or \"Fake\"\n",
        "prediction_labels = ['Real' if pred == 0 else 'Fake' for pred in predictions]\n",
        "\n",
        "print(prediction_labels)\n"
      ]
    },
    {
      "cell_type": "code",
      "execution_count": null,
      "metadata": {},
      "outputs": [],
      "source": [
        "#ADD# Function to predict and print results"
      ]
    },
    {
      "cell_type": "code",
      "execution_count": null,
      "metadata": {},
      "outputs": [],
      "source": [
        "#add part2"
      ]
    },
    {
      "cell_type": "code",
      "execution_count": null,
      "metadata": {},
      "outputs": [],
      "source": [
        "oengen"
      ]
    },
    {
      "cell_type": "code",
      "execution_count": null,
      "metadata": {},
      "outputs": [],
      "source": [
        "branch"
      ]
    }
  ],
  "metadata": {
    "colab": {
      "provenance": []
    },
    "kernelspec": {
      "display_name": "Python 3",
      "name": "python3"
    },
    "language_info": {
      "codemirror_mode": {
        "name": "ipython",
        "version": 3
      },
      "file_extension": ".py",
      "mimetype": "text/x-python",
      "name": "python",
      "nbconvert_exporter": "python",
      "pygments_lexer": "ipython3",
      "version": "3.12.10"
    }
  },
  "nbformat": 4,
  "nbformat_minor": 0
}
